{
  "cells": [
    {
      "cell_type": "markdown",
      "metadata": {
        "id": "7oyokVZ3V26H"
      },
      "source": [
        "Before you turn this problem in, make sure everything runs as expected. First, **restart the kernel** (in the menubar, select Kernel$\\rightarrow$Restart) and then **run all cells** (in the menubar, select Cell$\\rightarrow$Run All).\n",
        "\n",
        "Make sure you fill in any place that says `YOUR CODE HERE` or \"YOUR ANSWER HERE\", as well as your name and collaborators below:"
      ]
    },
    {
      "cell_type": "code",
      "execution_count": null,
      "metadata": {
        "id": "7O6tdvy7V26I"
      },
      "outputs": [],
      "source": [
        "NAME = \"Pau Martinez\"\n",
        "COLLABORATORS = \"\""
      ]
    },
    {
      "cell_type": "markdown",
      "metadata": {
        "id": "KRr8rDqNV26J"
      },
      "source": [
        "---"
      ]
    },
    {
      "cell_type": "markdown",
      "metadata": {
        "id": "qLKr6NheJKfU"
      },
      "source": [
        "# Challenge 04: Regression"
      ]
    },
    {
      "cell_type": "markdown",
      "metadata": {
        "id": "3NjCFJBJJN3H"
      },
      "source": [
        "## Definitions\n"
      ]
    },
    {
      "cell_type": "markdown",
      "metadata": {
        "id": "JE9b0BBsAMu5"
      },
      "source": [
        "### Design matrix"
      ]
    },
    {
      "cell_type": "markdown",
      "metadata": {
        "id": "CojpCARHJTbt"
      },
      "source": [
        "A **design matrix** loosely defined is a matrix that contains data about one's independent variables. Typically, your _columns_ represent the different features or observables of your data, while your _rows_ represent individual samples or measurements of those features.\n",
        "\n",
        "---\n",
        "\n",
        "EX: _(Grades vs study hours)_\n",
        "\n",
        "Let's say we're trying to study the relationship between grades (our dependent variable $\\vec{y}$) and the number of hours of study (our independent variable $\\vec{x}$):\n",
        "\n",
        "| # | Grade | Number of hours of study |\n",
        "| --- | --- | --- |\n",
        "| 1 | 89 | 1.0 |\n",
        "| 2 | 82 | 2.0 |\n",
        "| 3 | 91 | 3.0 |\n",
        "| 4 | 94 | 1.5 |\n",
        "| 5 | 79 | 0.5 |\n",
        "\n",
        "Then a design matrix for this could be:\n",
        "\n",
        "$$\n",
        "X =\n",
        "\\begin{bmatrix}\n",
        "1 & 1.0 \\\\\n",
        "1 & 2.0 \\\\\n",
        "1 & 3.0 \\\\\n",
        "1 & 1.5 \\\\\n",
        "1 & 0.5\n",
        "\\end{bmatrix}\n",
        "$$\n",
        "\n",
        "Here, we _augmented_ the design matrix with an $n \\times 1$ column of 1s for reasons that will be clear in the next section."
      ]
    },
    {
      "cell_type": "markdown",
      "metadata": {
        "id": "n0aZXobsJE30"
      },
      "source": [
        "### Linear regression"
      ]
    },
    {
      "cell_type": "markdown",
      "metadata": {
        "id": "JUw2A7bWJXpn"
      },
      "source": [
        "Suppose you have a set of observations  $\\{(x_i, y_i)\\}$ represented by the vectors $\\vec{x}$ (independent) and $\\vec{y}$ (dependent). One way to model the relationship explaining this data is to assume a linear relationship $y_i = \\beta_0 + x_i \\beta_1 + \\epsilon_i$, where $\\vec{\\beta} =\\begin{bmatrix}\\beta_0 \\\\ \\beta_1\\end{bmatrix}$ represent the y-intercept and the slope respectively and $\\epsilon_i$ is the random error of mean zero associated with the ith sample.\n",
        "\n",
        "\n",
        "---\n",
        "\n",
        "EX: _(Grades vs study hours)_\n",
        "\n",
        "For our data earlier, this implies the following observational equations:\n",
        "\n",
        "\n",
        "\\begin{align}\n",
        "89 &= \\beta_0 + (1.0) \\beta_1 + \\epsilon_1 \\\\\n",
        "82 &= \\beta_0 + (2.0) \\beta_1 + \\epsilon_2 \\\\\n",
        "91 &= \\beta_0 + (3.0) \\beta_1 + \\epsilon_3 \\\\\n",
        "94 &= \\beta_0 + (1.5) \\beta_1 + \\epsilon_4 \\\\\n",
        "79 &= \\beta_0 + (0.5) \\beta_1 + \\epsilon_5\n",
        "\\end{align}\n",
        "\n",
        "Or in matrix form:\n",
        "\n",
        "$$\\vec{y} = \\mathbf{X} \\begin{bmatrix}\\beta_0 \\\\ \\beta_1\\end{bmatrix} + \\vec{\\epsilon}$$\n",
        "\n",
        "where $\\mathbf{X}$ is the design matrix we wrote down earlier."
      ]
    },
    {
      "cell_type": "markdown",
      "metadata": {
        "id": "n6s9aeppPSjQ"
      },
      "source": [
        "---\n",
        "**CHECKPOINT!**: *What just happened?*\n",
        "- Here's a video showing what each component represents: [Simple Linear Regression Formula, Visualized | Ch.1](https://www.youtube.com/watch?v=3g-e2aiRfbU)\n",
        "---"
      ]
    },
    {
      "cell_type": "markdown",
      "metadata": {
        "id": "GvO9zsWaLWPg"
      },
      "source": [
        "What we want is to find an estimate<a name=\"cite_ref-1\">[<sup>\\[1\\]</sup>](#cite_note-1)</a> $\\hat{\\beta}$ of $\\vec{\\beta}$ that in some sense minimises the (squared) magnitude of the error vector $\\vec{\\epsilon}$.\n",
        "\n",
        "It can be shown then that the line that 'best fits' the observed data is given by the solution to the so-called **normal equations**:\n",
        "\n",
        "$$\n",
        "\\hat{\\beta} = (\\mathbf{X}^T \\mathbf{X})^{-1}  \\mathbf{X}^T \\vec{y}\n",
        "$$"
      ]
    },
    {
      "cell_type": "markdown",
      "metadata": {
        "id": "Wl2qInV_FivU"
      },
      "source": [
        "EX: _(Grades vs study hours)_ We have:\n",
        "\n",
        "$$\n",
        "\\begin{bmatrix}\n",
        "\\beta_0 \\\\\n",
        "\\beta_1\n",
        "\\end{bmatrix} =\n",
        "\\left(\\begin{bmatrix}\n",
        "1 & 1 & 1 & 1 & 1 \\\\\n",
        "1.0 & 2.0 & 3.0 & 1.5 & 0.5\n",
        "\\end{bmatrix}\n",
        "\\begin{bmatrix}\n",
        "1 & 1.0 \\\\\n",
        "1 & 2.0 \\\\\n",
        "1 & 3.0 \\\\\n",
        "1 & 1.5 \\\\\n",
        "1 & 0.5 \\\\\n",
        "\\end{bmatrix}\n",
        "\\right)^{-1}\n",
        "\\begin{bmatrix}\n",
        "1 & 1 & 1 & 1 & 1 \\\\\n",
        "1.0 & 2.0 & 3.0 & 1.5 & 0.5\n",
        "\\end{bmatrix}\n",
        "\\begin{bmatrix}\n",
        "89 \\\\\n",
        "82 \\\\\n",
        "91 \\\\\n",
        "94 \\\\\n",
        "79\n",
        "\\end{bmatrix}\n",
        "$$\n",
        "\n",
        "which means:\n",
        "\n",
        "$$\n",
        "\\hat{\\beta} \\approx\n",
        "\\begin{bmatrix}\n",
        "82.4 \\\\\n",
        "2.8\n",
        "\\end{bmatrix}\n",
        "$$"
      ]
    },
    {
      "cell_type": "markdown",
      "metadata": {
        "id": "XUvbI6xILf1O"
      },
      "source": [
        "Notice that, if we had not augmented $\\mathbf{X}$ with the $n \\times 1$ column vector of ones, we could not have gotten the y-intercept $\\beta_0$ to play a role in the regression.\n",
        "\n",
        "Plotting this, we get:\n",
        "\n",
        "![image](https://i.ibb.co/vHwNJTR/image.png)\n",
        "\n",
        "---\n",
        "<a name=\"cite_note-1\"></a> [<sup>\\[1\\]</sup>](#cite_ref-1): This is also a vector."
      ]
    },
    {
      "cell_type": "markdown",
      "metadata": {
        "id": "80DBN1BZSEOC"
      },
      "source": [
        "**Synthesis**\n",
        "- We have an existing dataset and we start with an initial guess for $\\vec{\\beta} =\\begin{bmatrix}\\beta_0 \\\\ \\beta_1\\end{bmatrix}$.\n",
        "    - Based on our setup above, this corresponds to a guess for the slope and a point to draw the line that fits our dataset.\n",
        "- We can set up the \"best\" parameters which fit the trend of our dataset using the formula above for $\\hat{\\beta}$. This is derived from the residual which we will discuss next.\n",
        "---"
      ]
    },
    {
      "cell_type": "markdown",
      "metadata": {
        "id": "OVNqDRrSJdkC"
      },
      "source": [
        "### Residual"
      ]
    },
    {
      "cell_type": "markdown",
      "metadata": {
        "id": "bja4k9flJnEm"
      },
      "source": [
        "The **residual** $r_i$ is the difference between an _observed_ value $x_i$ and its _estimated_ value $\\hat{x}_i$. For example, in our grades vs hours of study data, the residual of the ith point is its vertical distance from the regression line (so the point $(x_i, y_i) = (\\text{3 hours}, \\text{grade of 91})$ would have a residual $r \\approx 0$, since it's so close to the line)."
      ]
    },
    {
      "cell_type": "markdown",
      "metadata": {
        "id": "jDtF6iZhJgoc"
      },
      "source": [
        "### Loss function"
      ]
    },
    {
      "cell_type": "markdown",
      "metadata": {
        "id": "0Q-QKVg9JvAF"
      },
      "source": [
        "Broadly speaking, a **loss function** $L$ is a function of one or several variables that gives you a _real number_. That number tells you how far away you are from minimising some quantity, e.g. utility, energy use, etc. In (frequentist) statistics, loss functions are interpreted as a measure of how far your estimates are from their 'true' values.\n",
        "\n",
        "Two common loss functions in statistics are the **squared loss** $L(a) = a^2$ and the **absolute loss** $L(a) = |a|$."
      ]
    },
    {
      "cell_type": "markdown",
      "metadata": {
        "id": "uRoHjO5OVL3t"
      },
      "source": [
        "##### **Linear Regression**\n",
        "In linear regression, the loss function used is usually the **residual square sum** $L = \\sum{r_i^2} = \\sum{(y_i - (\\beta_0 + \\beta_1 x_i))^2}$ taken over all the pairs of observations $(x_i, y_i)$.\n"
      ]
    },
    {
      "cell_type": "markdown",
      "metadata": {
        "id": "l-Z2dllzVMtZ"
      },
      "source": [
        "##### **Logistic Regression**\n",
        "In logistic regression where you are trying to predict a probability $0 \\leq p_i \\leq 1$ for the observation $y_i$, the loss function is called the **log-loss** $L = \\sum{(-y_i\\ln{p_i}-(1 - y_i)\\ln{(1-p_i))}}$.\n",
        "\n",
        "In particular, $p_i$ is assumed to have the form of a **sigmoid function**:\n",
        "\n",
        "$$\n",
        "p(x_i) = \\frac{1}{1 + e^{-z_i}}\n",
        "$$\n",
        "\n",
        "where $z_i = \\beta_0 + \\beta_1 x_i$. Note that if we're trying to model a scenario with more than one independent variable e.g. $\\vec{x}$ and $\\vec{w}$, we can just tack on a term to $z_i$ for each additional variable so that e.g. $z_i = \\beta_0 + \\beta_1 x_i + \\beta_2 w_i$ in this two-variable case."
      ]
    },
    {
      "cell_type": "markdown",
      "metadata": {
        "id": "Dq03C-fFRmlE"
      },
      "source": [
        "---\n",
        "##### **CHECKPOINT!**\n",
        "- Here's how residuals play into the mix + a lookahead on the loss function: [Introduction to residuals and least squares *regression* - Khan Academy](https://www.youtube.com/watch?v=yMgFHbjbAW8&ab_channel=KhanAcademy)"
      ]
    },
    {
      "cell_type": "markdown",
      "metadata": {
        "id": "jBTtaux7VbZQ"
      },
      "source": [
        "##### *Help! I need a longform view of the lesson.*\n",
        "- [Learn Statistical Regression in 40 mins!](https://www.youtube.com/watch?v=eYTumjgE2IY)\n",
        "\n",
        "##### **[bonus!]** Given linear regression, how did we end up with the equation for $\\hat\\beta$?\n",
        "- We start with our loss function as the square of the residual and work backwards. [This article](https://en.wikipedia.org/wiki/Proofs_involving_ordinary_least_squares#Derivation_directly_in_terms_of_matrices) outlines the step-by-step equations (needs background on differentiation).\n",
        "---"
      ]
    },
    {
      "cell_type": "markdown",
      "metadata": {
        "id": "Rh2i9mNXJyxE"
      },
      "source": [
        "## Problems"
      ]
    },
    {
      "cell_type": "markdown",
      "metadata": {
        "id": "DqNhFsQdV9Cs"
      },
      "source": [
        "#### Setup"
      ]
    },
    {
      "cell_type": "code",
      "execution_count": 1,
      "metadata": {
        "id": "p6v84EvCYSjP"
      },
      "outputs": [],
      "source": [
        "%mkdir data/"
      ]
    },
    {
      "cell_type": "code",
      "execution_count": 2,
      "metadata": {
        "colab": {
          "base_uri": "https://localhost:8080/"
        },
        "id": "a_hLp8A6YVJb",
        "outputId": "19fd3eb0-c507-4c36-bd02-bb3ee89cc2fc"
      },
      "outputs": [
        {
          "output_type": "stream",
          "name": "stdout",
          "text": [
            "Requirement already satisfied: gdown in /usr/local/lib/python3.10/dist-packages (4.7.3)\n",
            "Collecting gdown\n",
            "  Downloading gdown-5.1.0-py3-none-any.whl (17 kB)\n",
            "Requirement already satisfied: beautifulsoup4 in /usr/local/lib/python3.10/dist-packages (from gdown) (4.12.3)\n",
            "Requirement already satisfied: filelock in /usr/local/lib/python3.10/dist-packages (from gdown) (3.13.1)\n",
            "Requirement already satisfied: requests[socks] in /usr/local/lib/python3.10/dist-packages (from gdown) (2.31.0)\n",
            "Requirement already satisfied: tqdm in /usr/local/lib/python3.10/dist-packages (from gdown) (4.66.2)\n",
            "Requirement already satisfied: soupsieve>1.2 in /usr/local/lib/python3.10/dist-packages (from beautifulsoup4->gdown) (2.5)\n",
            "Requirement already satisfied: charset-normalizer<4,>=2 in /usr/local/lib/python3.10/dist-packages (from requests[socks]->gdown) (3.3.2)\n",
            "Requirement already satisfied: idna<4,>=2.5 in /usr/local/lib/python3.10/dist-packages (from requests[socks]->gdown) (3.6)\n",
            "Requirement already satisfied: urllib3<3,>=1.21.1 in /usr/local/lib/python3.10/dist-packages (from requests[socks]->gdown) (2.0.7)\n",
            "Requirement already satisfied: certifi>=2017.4.17 in /usr/local/lib/python3.10/dist-packages (from requests[socks]->gdown) (2024.2.2)\n",
            "Requirement already satisfied: PySocks!=1.5.7,>=1.5.6 in /usr/local/lib/python3.10/dist-packages (from requests[socks]->gdown) (1.7.1)\n",
            "Installing collected packages: gdown\n",
            "  Attempting uninstall: gdown\n",
            "    Found existing installation: gdown 4.7.3\n",
            "    Uninstalling gdown-4.7.3:\n",
            "      Successfully uninstalled gdown-4.7.3\n",
            "Successfully installed gdown-5.1.0\n",
            "/usr/local/lib/python3.10/dist-packages/gdown/__main__.py:132: FutureWarning: Option `--id` was deprecated in version 4.3.1 and will be removed in 5.0. You don't need to pass it anymore to use a file ID.\n",
            "  warnings.warn(\n",
            "Downloading...\n",
            "From: https://drive.google.com/uc?id=1TQz7x_ElwZJ3sq5i4uLZvyh5ytr9O7GF\n",
            "To: /content/data/linear.txt\n",
            "100% 1.36k/1.36k [00:00<00:00, 5.87MB/s]\n",
            "/usr/local/lib/python3.10/dist-packages/gdown/__main__.py:132: FutureWarning: Option `--id` was deprecated in version 4.3.1 and will be removed in 5.0. You don't need to pass it anymore to use a file ID.\n",
            "  warnings.warn(\n",
            "Downloading...\n",
            "From: https://drive.google.com/uc?id=16I-h6oN6BE4a5G4ZtYPDxr6U9t18wXNc\n",
            "To: /content/data/log.txt\n",
            "100% 3.77k/3.77k [00:00<00:00, 15.1MB/s]\n"
          ]
        }
      ],
      "source": [
        "!pip install --upgrade gdown\n",
        "!cd data; gdown --id '1TQz7x_ElwZJ3sq5i4uLZvyh5ytr9O7GF'; gdown --id '16I-h6oN6BE4a5G4ZtYPDxr6U9t18wXNc'; cd .."
      ]
    },
    {
      "cell_type": "markdown",
      "metadata": {
        "id": "iQkwUQFNYbXS"
      },
      "source": [
        "#### Libraries you'd need"
      ]
    },
    {
      "cell_type": "code",
      "execution_count": 3,
      "metadata": {
        "id": "Uyz9ofnMV8nI"
      },
      "outputs": [],
      "source": [
        "import numpy as np\n",
        "import plotly.express as px\n",
        "import plotly.graph_objects as go"
      ]
    },
    {
      "cell_type": "markdown",
      "metadata": {
        "id": "5ShaDrqiJ1a7"
      },
      "source": [
        "### Problem 1\n",
        "\n",
        "Consider the following data on the height and weight of children:\n",
        "\n",
        "| # | 1 | 2 | 3 | 4 | 5 |\n",
        "| --- | --- | --- | --- | --- | --- |\n",
        "| Weight (y, kg) | 64 | 53 | 67 | 58 | 51 |\n",
        "| Height (x, in) | 57 | 50 | 61 | 52 | 45 |"
      ]
    },
    {
      "cell_type": "markdown",
      "metadata": {
        "id": "h3vj-QcjLwUD"
      },
      "source": [
        "1. Write down the correct design matrix $\\mathbf{X}$ given that we want to perform linear regression on this."
      ]
    },
    {
      "cell_type": "code",
      "source": [
        "X = np.array([\n",
        "          [1, 57],\n",
        "          [1, 50],\n",
        "          [1, 61],\n",
        "          [1, 52],\n",
        "          [1, 45]\n",
        "          ])\n",
        "# raise NotImplementedError()"
      ],
      "metadata": {
        "id": "wtOIv6MDXlm7"
      },
      "execution_count": 12,
      "outputs": []
    },
    {
      "cell_type": "code",
      "source": [
        "X"
      ],
      "metadata": {
        "colab": {
          "base_uri": "https://localhost:8080/"
        },
        "id": "EPBk-uyna4re",
        "outputId": "163c38a9-2495-4739-94cb-f48a20b93df6"
      },
      "execution_count": 13,
      "outputs": [
        {
          "output_type": "execute_result",
          "data": {
            "text/plain": [
              "array([[ 1, 57],\n",
              "       [ 1, 50],\n",
              "       [ 1, 61],\n",
              "       [ 1, 52],\n",
              "       [ 1, 45]])"
            ]
          },
          "metadata": {},
          "execution_count": 13
        }
      ]
    },
    {
      "cell_type": "code",
      "execution_count": null,
      "metadata": {
        "deletable": false,
        "editable": false,
        "nbgrader": {
          "cell_type": "code",
          "checksum": "9aa2fc105294d33f63c2d211889d04bd",
          "grade": true,
          "grade_id": "cell-4b4ae93b1d74aa62",
          "locked": true,
          "points": 1,
          "schema_version": 3,
          "solution": false,
          "task": false
        },
        "id": "uTqMtdjSV26L"
      },
      "outputs": [],
      "source": [
        "# DO NOT MODIFY - HIDDEN TESTS HERE"
      ]
    },
    {
      "cell_type": "markdown",
      "metadata": {
        "id": "nPiIZA0rLy5D"
      },
      "source": [
        "2. What is $\\mathbf{X}^T$? What about $(\\mathbf{X}^T \\mathbf{X})^{-1}$?"
      ]
    },
    {
      "cell_type": "code",
      "execution_count": 19,
      "metadata": {
        "deletable": false,
        "id": "OYlHlujxMiDP",
        "nbgrader": {
          "cell_type": "code",
          "checksum": "80b5c9ad0bf8744a318ea261fc49e6e2",
          "grade": false,
          "grade_id": "cell-be357f03a7d6ad3d",
          "locked": false,
          "schema_version": 3,
          "solution": true,
          "task": false
        }
      },
      "outputs": [],
      "source": [
        "# Compute for the following values by hand and express as numpy matrices\n",
        "answer1 = X.T\n",
        "answer2 = np.linalg.inv(np.dot(answer1, X))\n",
        "# YOUR CODE HERE\n",
        "# raise NotImplementedError()"
      ]
    },
    {
      "cell_type": "code",
      "source": [
        "answer1\n",
        "# answer2"
      ],
      "metadata": {
        "colab": {
          "base_uri": "https://localhost:8080/"
        },
        "id": "S0jDOWveh991",
        "outputId": "153526ef-a81d-42f1-bf02-87659ba1acab"
      },
      "execution_count": 96,
      "outputs": [
        {
          "output_type": "execute_result",
          "data": {
            "text/plain": [
              "array([[ 1,  1,  1,  1,  1],\n",
              "       [57, 50, 61, 52, 45]])"
            ]
          },
          "metadata": {},
          "execution_count": 96
        }
      ]
    },
    {
      "cell_type": "markdown",
      "source": [
        "# **ADD: MANUAL COMPUTATIONS HERE**\n",
        "\n"
      ],
      "metadata": {
        "id": "i4ZsOBsIcumA"
      }
    },
    {
      "cell_type": "code",
      "execution_count": null,
      "metadata": {
        "deletable": false,
        "editable": false,
        "nbgrader": {
          "cell_type": "code",
          "checksum": "a7ec5fe4dcf18890026825f9d9e497a3",
          "grade": true,
          "grade_id": "cell-fa2f78eef1f98962",
          "locked": true,
          "points": 1,
          "schema_version": 3,
          "solution": false,
          "task": false
        },
        "id": "1qxh21acV26M"
      },
      "outputs": [],
      "source": [
        "# DO NOT MODIFY - HIDDEN TESTS HERE"
      ]
    },
    {
      "cell_type": "markdown",
      "metadata": {
        "id": "cMg8jWauL1vF"
      },
      "source": [
        "3. Obtain the parameter estimate $\\hat{\\beta}$."
      ]
    },
    {
      "cell_type": "code",
      "execution_count": 29,
      "metadata": {
        "deletable": false,
        "id": "oBn66yQpMiaC",
        "nbgrader": {
          "cell_type": "code",
          "checksum": "f27f5bbb3756d17f8a18c7412927a6c9",
          "grade": false,
          "grade_id": "cell-7ad055e4cc42f886",
          "locked": false,
          "schema_version": 3,
          "solution": true,
          "task": false
        }
      },
      "outputs": [],
      "source": [
        "# Again, do compute by hand\n",
        "y = np.array([\n",
        "             [64],\n",
        "             [53],\n",
        "             [67],\n",
        "             [58],\n",
        "             [51]\n",
        "             ])\n",
        "Xt_y = np.dot(answer1, y)\n",
        "beta = np.dot(answer2, Xt_y)\n",
        "# YOUR CODE HERE\n",
        "# raise NotImplementedError()"
      ]
    },
    {
      "cell_type": "code",
      "source": [
        "beta"
      ],
      "metadata": {
        "colab": {
          "base_uri": "https://localhost:8080/"
        },
        "id": "PAQUd9g3hck1",
        "outputId": "fd3c9f43-e7dd-401c-dc91-ea3eb8231a4f"
      },
      "execution_count": 30,
      "outputs": [
        {
          "output_type": "execute_result",
          "data": {
            "text/plain": [
              "array([[1.12597403],\n",
              "       [1.08441558]])"
            ]
          },
          "metadata": {},
          "execution_count": 30
        }
      ]
    },
    {
      "cell_type": "code",
      "source": [
        "answer1"
      ],
      "metadata": {
        "colab": {
          "base_uri": "https://localhost:8080/"
        },
        "id": "yAkwBnsHs5Ft",
        "outputId": "c62b6658-4f05-4619-a128-5de47abee684"
      },
      "execution_count": 90,
      "outputs": [
        {
          "output_type": "execute_result",
          "data": {
            "text/plain": [
              "array([[ 1,  1,  1,  1,  1],\n",
              "       [57, 50, 61, 52, 45]])"
            ]
          },
          "metadata": {},
          "execution_count": 90
        }
      ]
    },
    {
      "cell_type": "code",
      "execution_count": null,
      "metadata": {
        "deletable": false,
        "editable": false,
        "nbgrader": {
          "cell_type": "code",
          "checksum": "5ebd95562327170d180523712a6edde7",
          "grade": true,
          "grade_id": "cell-77d64cbeda22bd8a",
          "locked": true,
          "points": 1,
          "schema_version": 3,
          "solution": false,
          "task": false
        },
        "id": "hjx57_htV26M"
      },
      "outputs": [],
      "source": [
        "# DO NOT MODIFY - HIDDEN TESTS HERE"
      ]
    },
    {
      "cell_type": "markdown",
      "metadata": {
        "id": "yUdPz3l_J2xT"
      },
      "source": [
        "### Problem 2\n",
        "\n",
        "In this exercise, you will need the data contained in `data/linear.txt` (taken from Andrew Ng's _Machine Learning Specialization_ course).\n",
        "\n",
        "You are tasked to predict the weekly energy usage (in KWh) of rural households in the Philippines as a function of the number of people in them using _linear_ regression."
      ]
    },
    {
      "cell_type": "markdown",
      "metadata": {
        "id": "MejN9fwkMJ1G"
      },
      "source": [
        "#### Prereq: Load the dataset"
      ]
    },
    {
      "cell_type": "code",
      "execution_count": null,
      "metadata": {
        "id": "M7RG7w28MJXI"
      },
      "outputs": [],
      "source": [
        "matrix = np.matrix([tuple(map(float, x.strip().split(','))) for x in open(\"data/linear.txt\", 'r').readlines()])\n",
        "matrix"
      ]
    },
    {
      "cell_type": "markdown",
      "metadata": {
        "id": "Qd5i_7BYMThm"
      },
      "source": [
        "#### Questions"
      ]
    },
    {
      "cell_type": "markdown",
      "metadata": {
        "id": "yXsqoMcWML7h"
      },
      "source": [
        "1. First, construct the design matrix $\\mathbf{X}$ and the array $\\vec{y}$. From them, make a properly labeled scatterplot."
      ]
    },
    {
      "cell_type": "code",
      "source": [
        "import pandas as pd"
      ],
      "metadata": {
        "id": "0WIQhwUTnANA"
      },
      "execution_count": 65,
      "outputs": []
    },
    {
      "cell_type": "code",
      "execution_count": 58,
      "metadata": {
        "deletable": false,
        "id": "UKJgOQ9LMevD",
        "nbgrader": {
          "cell_type": "code",
          "checksum": "d9564f769ca0cd31242621b3088e5af4",
          "grade": false,
          "grade_id": "cell-9bddbefd3fc8caa1",
          "locked": false,
          "schema_version": 3,
          "solution": true,
          "task": false
        }
      },
      "outputs": [],
      "source": [
        "ones = np.ones(np.shape(X)).reshape(-1, 1)\n",
        "X = np.concatenate((ones, matrix[:, 0]), axis=1) # column 1\n",
        "y = matrix[:, 1] # column 2\n",
        "# YOUR CODE HERE\n",
        "# raise NotImplementedError()"
      ]
    },
    {
      "cell_type": "code",
      "source": [
        "X[:5]"
      ],
      "metadata": {
        "colab": {
          "base_uri": "https://localhost:8080/"
        },
        "id": "jlz1S5x5ndPv",
        "outputId": "1fe17efe-7862-4d1b-a0d1-3655a2792983"
      },
      "execution_count": 91,
      "outputs": [
        {
          "output_type": "execute_result",
          "data": {
            "text/plain": [
              "matrix([[1.    , 6.1101],\n",
              "        [1.    , 5.5277],\n",
              "        [1.    , 8.5186],\n",
              "        [1.    , 7.0032],\n",
              "        [1.    , 5.8598]])"
            ]
          },
          "metadata": {},
          "execution_count": 91
        }
      ]
    },
    {
      "cell_type": "code",
      "source": [
        "df = pd.DataFrame(X, columns=['intercept', 'num_people'])\n",
        "df['energy_usage'] = y\n",
        "df"
      ],
      "metadata": {
        "colab": {
          "base_uri": "https://localhost:8080/",
          "height": 424
        },
        "id": "w9qos8o2mmpf",
        "outputId": "efd4d8c6-1b4d-4ce7-db3d-e76498583385"
      },
      "execution_count": 79,
      "outputs": [
        {
          "output_type": "execute_result",
          "data": {
            "text/plain": [
              "    intercept  num_people  energy_usage\n",
              "0         1.0      6.1101      17.59200\n",
              "1         1.0      5.5277       9.13020\n",
              "2         1.0      8.5186      13.66200\n",
              "3         1.0      7.0032      11.85400\n",
              "4         1.0      5.8598       6.82330\n",
              "..        ...         ...           ...\n",
              "92        1.0      5.8707       7.20290\n",
              "93        1.0      5.3054       1.98690\n",
              "94        1.0      8.2934       0.14454\n",
              "95        1.0     13.3940       9.05510\n",
              "96        1.0      5.4369       0.61705\n",
              "\n",
              "[97 rows x 3 columns]"
            ],
            "text/html": [
              "\n",
              "  <div id=\"df-ef4524d7-ca1c-459a-b3f1-2b60bd531038\" class=\"colab-df-container\">\n",
              "    <div>\n",
              "<style scoped>\n",
              "    .dataframe tbody tr th:only-of-type {\n",
              "        vertical-align: middle;\n",
              "    }\n",
              "\n",
              "    .dataframe tbody tr th {\n",
              "        vertical-align: top;\n",
              "    }\n",
              "\n",
              "    .dataframe thead th {\n",
              "        text-align: right;\n",
              "    }\n",
              "</style>\n",
              "<table border=\"1\" class=\"dataframe\">\n",
              "  <thead>\n",
              "    <tr style=\"text-align: right;\">\n",
              "      <th></th>\n",
              "      <th>intercept</th>\n",
              "      <th>num_people</th>\n",
              "      <th>energy_usage</th>\n",
              "    </tr>\n",
              "  </thead>\n",
              "  <tbody>\n",
              "    <tr>\n",
              "      <th>0</th>\n",
              "      <td>1.0</td>\n",
              "      <td>6.1101</td>\n",
              "      <td>17.59200</td>\n",
              "    </tr>\n",
              "    <tr>\n",
              "      <th>1</th>\n",
              "      <td>1.0</td>\n",
              "      <td>5.5277</td>\n",
              "      <td>9.13020</td>\n",
              "    </tr>\n",
              "    <tr>\n",
              "      <th>2</th>\n",
              "      <td>1.0</td>\n",
              "      <td>8.5186</td>\n",
              "      <td>13.66200</td>\n",
              "    </tr>\n",
              "    <tr>\n",
              "      <th>3</th>\n",
              "      <td>1.0</td>\n",
              "      <td>7.0032</td>\n",
              "      <td>11.85400</td>\n",
              "    </tr>\n",
              "    <tr>\n",
              "      <th>4</th>\n",
              "      <td>1.0</td>\n",
              "      <td>5.8598</td>\n",
              "      <td>6.82330</td>\n",
              "    </tr>\n",
              "    <tr>\n",
              "      <th>...</th>\n",
              "      <td>...</td>\n",
              "      <td>...</td>\n",
              "      <td>...</td>\n",
              "    </tr>\n",
              "    <tr>\n",
              "      <th>92</th>\n",
              "      <td>1.0</td>\n",
              "      <td>5.8707</td>\n",
              "      <td>7.20290</td>\n",
              "    </tr>\n",
              "    <tr>\n",
              "      <th>93</th>\n",
              "      <td>1.0</td>\n",
              "      <td>5.3054</td>\n",
              "      <td>1.98690</td>\n",
              "    </tr>\n",
              "    <tr>\n",
              "      <th>94</th>\n",
              "      <td>1.0</td>\n",
              "      <td>8.2934</td>\n",
              "      <td>0.14454</td>\n",
              "    </tr>\n",
              "    <tr>\n",
              "      <th>95</th>\n",
              "      <td>1.0</td>\n",
              "      <td>13.3940</td>\n",
              "      <td>9.05510</td>\n",
              "    </tr>\n",
              "    <tr>\n",
              "      <th>96</th>\n",
              "      <td>1.0</td>\n",
              "      <td>5.4369</td>\n",
              "      <td>0.61705</td>\n",
              "    </tr>\n",
              "  </tbody>\n",
              "</table>\n",
              "<p>97 rows × 3 columns</p>\n",
              "</div>\n",
              "    <div class=\"colab-df-buttons\">\n",
              "\n",
              "  <div class=\"colab-df-container\">\n",
              "    <button class=\"colab-df-convert\" onclick=\"convertToInteractive('df-ef4524d7-ca1c-459a-b3f1-2b60bd531038')\"\n",
              "            title=\"Convert this dataframe to an interactive table.\"\n",
              "            style=\"display:none;\">\n",
              "\n",
              "  <svg xmlns=\"http://www.w3.org/2000/svg\" height=\"24px\" viewBox=\"0 -960 960 960\">\n",
              "    <path d=\"M120-120v-720h720v720H120Zm60-500h600v-160H180v160Zm220 220h160v-160H400v160Zm0 220h160v-160H400v160ZM180-400h160v-160H180v160Zm440 0h160v-160H620v160ZM180-180h160v-160H180v160Zm440 0h160v-160H620v160Z\"/>\n",
              "  </svg>\n",
              "    </button>\n",
              "\n",
              "  <style>\n",
              "    .colab-df-container {\n",
              "      display:flex;\n",
              "      gap: 12px;\n",
              "    }\n",
              "\n",
              "    .colab-df-convert {\n",
              "      background-color: #E8F0FE;\n",
              "      border: none;\n",
              "      border-radius: 50%;\n",
              "      cursor: pointer;\n",
              "      display: none;\n",
              "      fill: #1967D2;\n",
              "      height: 32px;\n",
              "      padding: 0 0 0 0;\n",
              "      width: 32px;\n",
              "    }\n",
              "\n",
              "    .colab-df-convert:hover {\n",
              "      background-color: #E2EBFA;\n",
              "      box-shadow: 0px 1px 2px rgba(60, 64, 67, 0.3), 0px 1px 3px 1px rgba(60, 64, 67, 0.15);\n",
              "      fill: #174EA6;\n",
              "    }\n",
              "\n",
              "    .colab-df-buttons div {\n",
              "      margin-bottom: 4px;\n",
              "    }\n",
              "\n",
              "    [theme=dark] .colab-df-convert {\n",
              "      background-color: #3B4455;\n",
              "      fill: #D2E3FC;\n",
              "    }\n",
              "\n",
              "    [theme=dark] .colab-df-convert:hover {\n",
              "      background-color: #434B5C;\n",
              "      box-shadow: 0px 1px 3px 1px rgba(0, 0, 0, 0.15);\n",
              "      filter: drop-shadow(0px 1px 2px rgba(0, 0, 0, 0.3));\n",
              "      fill: #FFFFFF;\n",
              "    }\n",
              "  </style>\n",
              "\n",
              "    <script>\n",
              "      const buttonEl =\n",
              "        document.querySelector('#df-ef4524d7-ca1c-459a-b3f1-2b60bd531038 button.colab-df-convert');\n",
              "      buttonEl.style.display =\n",
              "        google.colab.kernel.accessAllowed ? 'block' : 'none';\n",
              "\n",
              "      async function convertToInteractive(key) {\n",
              "        const element = document.querySelector('#df-ef4524d7-ca1c-459a-b3f1-2b60bd531038');\n",
              "        const dataTable =\n",
              "          await google.colab.kernel.invokeFunction('convertToInteractive',\n",
              "                                                    [key], {});\n",
              "        if (!dataTable) return;\n",
              "\n",
              "        const docLinkHtml = 'Like what you see? Visit the ' +\n",
              "          '<a target=\"_blank\" href=https://colab.research.google.com/notebooks/data_table.ipynb>data table notebook</a>'\n",
              "          + ' to learn more about interactive tables.';\n",
              "        element.innerHTML = '';\n",
              "        dataTable['output_type'] = 'display_data';\n",
              "        await google.colab.output.renderOutput(dataTable, element);\n",
              "        const docLink = document.createElement('div');\n",
              "        docLink.innerHTML = docLinkHtml;\n",
              "        element.appendChild(docLink);\n",
              "      }\n",
              "    </script>\n",
              "  </div>\n",
              "\n",
              "\n",
              "<div id=\"df-861bc906-3662-424b-966b-dcb808642999\">\n",
              "  <button class=\"colab-df-quickchart\" onclick=\"quickchart('df-861bc906-3662-424b-966b-dcb808642999')\"\n",
              "            title=\"Suggest charts\"\n",
              "            style=\"display:none;\">\n",
              "\n",
              "<svg xmlns=\"http://www.w3.org/2000/svg\" height=\"24px\"viewBox=\"0 0 24 24\"\n",
              "     width=\"24px\">\n",
              "    <g>\n",
              "        <path d=\"M19 3H5c-1.1 0-2 .9-2 2v14c0 1.1.9 2 2 2h14c1.1 0 2-.9 2-2V5c0-1.1-.9-2-2-2zM9 17H7v-7h2v7zm4 0h-2V7h2v10zm4 0h-2v-4h2v4z\"/>\n",
              "    </g>\n",
              "</svg>\n",
              "  </button>\n",
              "\n",
              "<style>\n",
              "  .colab-df-quickchart {\n",
              "      --bg-color: #E8F0FE;\n",
              "      --fill-color: #1967D2;\n",
              "      --hover-bg-color: #E2EBFA;\n",
              "      --hover-fill-color: #174EA6;\n",
              "      --disabled-fill-color: #AAA;\n",
              "      --disabled-bg-color: #DDD;\n",
              "  }\n",
              "\n",
              "  [theme=dark] .colab-df-quickchart {\n",
              "      --bg-color: #3B4455;\n",
              "      --fill-color: #D2E3FC;\n",
              "      --hover-bg-color: #434B5C;\n",
              "      --hover-fill-color: #FFFFFF;\n",
              "      --disabled-bg-color: #3B4455;\n",
              "      --disabled-fill-color: #666;\n",
              "  }\n",
              "\n",
              "  .colab-df-quickchart {\n",
              "    background-color: var(--bg-color);\n",
              "    border: none;\n",
              "    border-radius: 50%;\n",
              "    cursor: pointer;\n",
              "    display: none;\n",
              "    fill: var(--fill-color);\n",
              "    height: 32px;\n",
              "    padding: 0;\n",
              "    width: 32px;\n",
              "  }\n",
              "\n",
              "  .colab-df-quickchart:hover {\n",
              "    background-color: var(--hover-bg-color);\n",
              "    box-shadow: 0 1px 2px rgba(60, 64, 67, 0.3), 0 1px 3px 1px rgba(60, 64, 67, 0.15);\n",
              "    fill: var(--button-hover-fill-color);\n",
              "  }\n",
              "\n",
              "  .colab-df-quickchart-complete:disabled,\n",
              "  .colab-df-quickchart-complete:disabled:hover {\n",
              "    background-color: var(--disabled-bg-color);\n",
              "    fill: var(--disabled-fill-color);\n",
              "    box-shadow: none;\n",
              "  }\n",
              "\n",
              "  .colab-df-spinner {\n",
              "    border: 2px solid var(--fill-color);\n",
              "    border-color: transparent;\n",
              "    border-bottom-color: var(--fill-color);\n",
              "    animation:\n",
              "      spin 1s steps(1) infinite;\n",
              "  }\n",
              "\n",
              "  @keyframes spin {\n",
              "    0% {\n",
              "      border-color: transparent;\n",
              "      border-bottom-color: var(--fill-color);\n",
              "      border-left-color: var(--fill-color);\n",
              "    }\n",
              "    20% {\n",
              "      border-color: transparent;\n",
              "      border-left-color: var(--fill-color);\n",
              "      border-top-color: var(--fill-color);\n",
              "    }\n",
              "    30% {\n",
              "      border-color: transparent;\n",
              "      border-left-color: var(--fill-color);\n",
              "      border-top-color: var(--fill-color);\n",
              "      border-right-color: var(--fill-color);\n",
              "    }\n",
              "    40% {\n",
              "      border-color: transparent;\n",
              "      border-right-color: var(--fill-color);\n",
              "      border-top-color: var(--fill-color);\n",
              "    }\n",
              "    60% {\n",
              "      border-color: transparent;\n",
              "      border-right-color: var(--fill-color);\n",
              "    }\n",
              "    80% {\n",
              "      border-color: transparent;\n",
              "      border-right-color: var(--fill-color);\n",
              "      border-bottom-color: var(--fill-color);\n",
              "    }\n",
              "    90% {\n",
              "      border-color: transparent;\n",
              "      border-bottom-color: var(--fill-color);\n",
              "    }\n",
              "  }\n",
              "</style>\n",
              "\n",
              "  <script>\n",
              "    async function quickchart(key) {\n",
              "      const quickchartButtonEl =\n",
              "        document.querySelector('#' + key + ' button');\n",
              "      quickchartButtonEl.disabled = true;  // To prevent multiple clicks.\n",
              "      quickchartButtonEl.classList.add('colab-df-spinner');\n",
              "      try {\n",
              "        const charts = await google.colab.kernel.invokeFunction(\n",
              "            'suggestCharts', [key], {});\n",
              "      } catch (error) {\n",
              "        console.error('Error during call to suggestCharts:', error);\n",
              "      }\n",
              "      quickchartButtonEl.classList.remove('colab-df-spinner');\n",
              "      quickchartButtonEl.classList.add('colab-df-quickchart-complete');\n",
              "    }\n",
              "    (() => {\n",
              "      let quickchartButtonEl =\n",
              "        document.querySelector('#df-861bc906-3662-424b-966b-dcb808642999 button');\n",
              "      quickchartButtonEl.style.display =\n",
              "        google.colab.kernel.accessAllowed ? 'block' : 'none';\n",
              "    })();\n",
              "  </script>\n",
              "</div>\n",
              "    </div>\n",
              "  </div>\n"
            ],
            "application/vnd.google.colaboratory.intrinsic+json": {
              "type": "dataframe",
              "variable_name": "df",
              "summary": "{\n  \"name\": \"df\",\n  \"rows\": 97,\n  \"fields\": [\n    {\n      \"column\": \"intercept\",\n      \"properties\": {\n        \"dtype\": \"number\",\n        \"std\": 0.0,\n        \"min\": 1.0,\n        \"max\": 1.0,\n        \"num_unique_values\": 1,\n        \"samples\": [\n          1.0\n        ],\n        \"semantic_type\": \"\",\n        \"description\": \"\"\n      }\n    },\n    {\n      \"column\": \"num_people\",\n      \"properties\": {\n        \"dtype\": \"number\",\n        \"std\": 3.8698835278823314,\n        \"min\": 5.0269,\n        \"max\": 22.203,\n        \"num_unique_values\": 97,\n        \"samples\": [\n          21.279\n        ],\n        \"semantic_type\": \"\",\n        \"description\": \"\"\n      }\n    },\n    {\n      \"column\": \"energy_usage\",\n      \"properties\": {\n        \"dtype\": \"number\",\n        \"std\": 5.510262255231544,\n        \"min\": -2.6807,\n        \"max\": 24.147,\n        \"num_unique_values\": 97,\n        \"samples\": [\n          17.929\n        ],\n        \"semantic_type\": \"\",\n        \"description\": \"\"\n      }\n    }\n  ]\n}"
            }
          },
          "metadata": {},
          "execution_count": 79
        }
      ]
    },
    {
      "cell_type": "code",
      "source": [
        "fig = px.scatter(df, x=\"num_people\", y='energy_usage',\n",
        "                 labels={\"num_people\": \"Number of people in the household\",\n",
        "                         \"energy_usage\": \"Weekly Energy Usage (in KWh)\"},\n",
        "                 title='How the Number of People in a Rural Household affects Weekly Energy Usage (in KWh)',)\n",
        "fig.show()"
      ],
      "metadata": {
        "colab": {
          "base_uri": "https://localhost:8080/",
          "height": 542
        },
        "id": "-ZTWa_WWn42D",
        "outputId": "4ee91a87-e2b7-495b-b8f8-82d8cc2d5cec"
      },
      "execution_count": 154,
      "outputs": [
        {
          "output_type": "display_data",
          "data": {
            "text/html": [
              "<html>\n",
              "<head><meta charset=\"utf-8\" /></head>\n",
              "<body>\n",
              "    <div>            <script src=\"https://cdnjs.cloudflare.com/ajax/libs/mathjax/2.7.5/MathJax.js?config=TeX-AMS-MML_SVG\"></script><script type=\"text/javascript\">if (window.MathJax && window.MathJax.Hub && window.MathJax.Hub.Config) {window.MathJax.Hub.Config({SVG: {font: \"STIX-Web\"}});}</script>                <script type=\"text/javascript\">window.PlotlyConfig = {MathJaxConfig: 'local'};</script>\n",
              "        <script charset=\"utf-8\" src=\"https://cdn.plot.ly/plotly-2.24.1.min.js\"></script>                <div id=\"705d5695-acee-4655-b1ee-cd428d36da38\" class=\"plotly-graph-div\" style=\"height:525px; width:100%;\"></div>            <script type=\"text/javascript\">                                    window.PLOTLYENV=window.PLOTLYENV || {};                                    if (document.getElementById(\"705d5695-acee-4655-b1ee-cd428d36da38\")) {                    Plotly.newPlot(                        \"705d5695-acee-4655-b1ee-cd428d36da38\",                        [{\"hovertemplate\":\"Number of people in the household=%{x}\\u003cbr\\u003eWeekly Energy Usage (in KWh)=%{y}\\u003cextra\\u003e\\u003c\\u002fextra\\u003e\",\"legendgroup\":\"\",\"marker\":{\"color\":\"#636efa\",\"symbol\":\"circle\"},\"mode\":\"markers\",\"name\":\"\",\"orientation\":\"v\",\"showlegend\":false,\"x\":[6.1101,5.5277,8.5186,7.0032,5.8598,8.3829,7.4764,8.5781,6.4862,5.0546,5.7107,14.164,5.734,8.4084,5.6407,5.3794,6.3654,5.1301,6.4296,7.0708,6.1891,20.27,5.4901,6.3261,5.5649,18.945,12.828,10.957,13.176,22.203,5.2524,6.5894,9.2482,5.8918,8.2111,7.9334,8.0959,5.6063,12.836,6.3534,5.4069,6.8825,11.708,5.7737,7.8247,7.0931,5.0702,5.8014,11.7,5.5416,7.5402,5.3077,7.4239,7.6031,6.3328,6.3589,6.2742,5.6397,9.3102,9.4536,8.8254,5.1793,21.279,14.908,18.959,7.2182,8.2951,10.236,5.4994,20.341,10.136,7.3345,6.0062,7.2259,5.0269,6.5479,7.5386,5.0365,10.274,5.1077,5.7292,5.1884,6.3557,9.7687,6.5159,8.5172,9.1802,6.002,5.5204,5.0594,5.7077,7.6366,5.8707,5.3054,8.2934,13.394,5.4369],\"xaxis\":\"x\",\"y\":[17.592,9.1302,13.662,11.854,6.8233,11.886,4.3483,12.0,6.5987,3.8166,3.2522,15.505,3.1551,7.2258,0.71618,3.5129,5.3048,0.56077,3.6518,5.3893,3.1386,21.767,4.263,5.1875,3.0825,22.638,13.501,7.0467,14.692,24.147,-1.22,5.9966,12.134,1.8495,6.5426,4.5623,4.1164,3.3928,10.117,5.4974,0.55657,3.9115,5.3854,2.4406,6.7318,1.0463,5.1337,1.844,8.0043,1.0179,6.7504,1.8396,4.2885,4.9981,1.4233,-1.4211,2.4756,4.6042,3.9624,5.4141,5.1694,-0.74279,17.929,12.054,17.054,4.8852,5.7442,7.7754,1.0173,20.992,6.6799,4.0259,1.2784,3.3411,-2.6807,0.29678,3.8845,5.7014,6.7526,2.0576,0.47953,0.20421,0.67861,7.5435,5.3436,4.2415,6.7981,0.92695,0.152,2.8214,1.8451,4.2959,7.2029,1.9869,0.14454,9.0551,0.61705],\"yaxis\":\"y\",\"type\":\"scatter\"}],                        {\"template\":{\"data\":{\"histogram2dcontour\":[{\"type\":\"histogram2dcontour\",\"colorbar\":{\"outlinewidth\":0,\"ticks\":\"\"},\"colorscale\":[[0.0,\"#0d0887\"],[0.1111111111111111,\"#46039f\"],[0.2222222222222222,\"#7201a8\"],[0.3333333333333333,\"#9c179e\"],[0.4444444444444444,\"#bd3786\"],[0.5555555555555556,\"#d8576b\"],[0.6666666666666666,\"#ed7953\"],[0.7777777777777778,\"#fb9f3a\"],[0.8888888888888888,\"#fdca26\"],[1.0,\"#f0f921\"]]}],\"choropleth\":[{\"type\":\"choropleth\",\"colorbar\":{\"outlinewidth\":0,\"ticks\":\"\"}}],\"histogram2d\":[{\"type\":\"histogram2d\",\"colorbar\":{\"outlinewidth\":0,\"ticks\":\"\"},\"colorscale\":[[0.0,\"#0d0887\"],[0.1111111111111111,\"#46039f\"],[0.2222222222222222,\"#7201a8\"],[0.3333333333333333,\"#9c179e\"],[0.4444444444444444,\"#bd3786\"],[0.5555555555555556,\"#d8576b\"],[0.6666666666666666,\"#ed7953\"],[0.7777777777777778,\"#fb9f3a\"],[0.8888888888888888,\"#fdca26\"],[1.0,\"#f0f921\"]]}],\"heatmap\":[{\"type\":\"heatmap\",\"colorbar\":{\"outlinewidth\":0,\"ticks\":\"\"},\"colorscale\":[[0.0,\"#0d0887\"],[0.1111111111111111,\"#46039f\"],[0.2222222222222222,\"#7201a8\"],[0.3333333333333333,\"#9c179e\"],[0.4444444444444444,\"#bd3786\"],[0.5555555555555556,\"#d8576b\"],[0.6666666666666666,\"#ed7953\"],[0.7777777777777778,\"#fb9f3a\"],[0.8888888888888888,\"#fdca26\"],[1.0,\"#f0f921\"]]}],\"heatmapgl\":[{\"type\":\"heatmapgl\",\"colorbar\":{\"outlinewidth\":0,\"ticks\":\"\"},\"colorscale\":[[0.0,\"#0d0887\"],[0.1111111111111111,\"#46039f\"],[0.2222222222222222,\"#7201a8\"],[0.3333333333333333,\"#9c179e\"],[0.4444444444444444,\"#bd3786\"],[0.5555555555555556,\"#d8576b\"],[0.6666666666666666,\"#ed7953\"],[0.7777777777777778,\"#fb9f3a\"],[0.8888888888888888,\"#fdca26\"],[1.0,\"#f0f921\"]]}],\"contourcarpet\":[{\"type\":\"contourcarpet\",\"colorbar\":{\"outlinewidth\":0,\"ticks\":\"\"}}],\"contour\":[{\"type\":\"contour\",\"colorbar\":{\"outlinewidth\":0,\"ticks\":\"\"},\"colorscale\":[[0.0,\"#0d0887\"],[0.1111111111111111,\"#46039f\"],[0.2222222222222222,\"#7201a8\"],[0.3333333333333333,\"#9c179e\"],[0.4444444444444444,\"#bd3786\"],[0.5555555555555556,\"#d8576b\"],[0.6666666666666666,\"#ed7953\"],[0.7777777777777778,\"#fb9f3a\"],[0.8888888888888888,\"#fdca26\"],[1.0,\"#f0f921\"]]}],\"surface\":[{\"type\":\"surface\",\"colorbar\":{\"outlinewidth\":0,\"ticks\":\"\"},\"colorscale\":[[0.0,\"#0d0887\"],[0.1111111111111111,\"#46039f\"],[0.2222222222222222,\"#7201a8\"],[0.3333333333333333,\"#9c179e\"],[0.4444444444444444,\"#bd3786\"],[0.5555555555555556,\"#d8576b\"],[0.6666666666666666,\"#ed7953\"],[0.7777777777777778,\"#fb9f3a\"],[0.8888888888888888,\"#fdca26\"],[1.0,\"#f0f921\"]]}],\"mesh3d\":[{\"type\":\"mesh3d\",\"colorbar\":{\"outlinewidth\":0,\"ticks\":\"\"}}],\"scatter\":[{\"fillpattern\":{\"fillmode\":\"overlay\",\"size\":10,\"solidity\":0.2},\"type\":\"scatter\"}],\"parcoords\":[{\"type\":\"parcoords\",\"line\":{\"colorbar\":{\"outlinewidth\":0,\"ticks\":\"\"}}}],\"scatterpolargl\":[{\"type\":\"scatterpolargl\",\"marker\":{\"colorbar\":{\"outlinewidth\":0,\"ticks\":\"\"}}}],\"bar\":[{\"error_x\":{\"color\":\"#2a3f5f\"},\"error_y\":{\"color\":\"#2a3f5f\"},\"marker\":{\"line\":{\"color\":\"#E5ECF6\",\"width\":0.5},\"pattern\":{\"fillmode\":\"overlay\",\"size\":10,\"solidity\":0.2}},\"type\":\"bar\"}],\"scattergeo\":[{\"type\":\"scattergeo\",\"marker\":{\"colorbar\":{\"outlinewidth\":0,\"ticks\":\"\"}}}],\"scatterpolar\":[{\"type\":\"scatterpolar\",\"marker\":{\"colorbar\":{\"outlinewidth\":0,\"ticks\":\"\"}}}],\"histogram\":[{\"marker\":{\"pattern\":{\"fillmode\":\"overlay\",\"size\":10,\"solidity\":0.2}},\"type\":\"histogram\"}],\"scattergl\":[{\"type\":\"scattergl\",\"marker\":{\"colorbar\":{\"outlinewidth\":0,\"ticks\":\"\"}}}],\"scatter3d\":[{\"type\":\"scatter3d\",\"line\":{\"colorbar\":{\"outlinewidth\":0,\"ticks\":\"\"}},\"marker\":{\"colorbar\":{\"outlinewidth\":0,\"ticks\":\"\"}}}],\"scattermapbox\":[{\"type\":\"scattermapbox\",\"marker\":{\"colorbar\":{\"outlinewidth\":0,\"ticks\":\"\"}}}],\"scatterternary\":[{\"type\":\"scatterternary\",\"marker\":{\"colorbar\":{\"outlinewidth\":0,\"ticks\":\"\"}}}],\"scattercarpet\":[{\"type\":\"scattercarpet\",\"marker\":{\"colorbar\":{\"outlinewidth\":0,\"ticks\":\"\"}}}],\"carpet\":[{\"aaxis\":{\"endlinecolor\":\"#2a3f5f\",\"gridcolor\":\"white\",\"linecolor\":\"white\",\"minorgridcolor\":\"white\",\"startlinecolor\":\"#2a3f5f\"},\"baxis\":{\"endlinecolor\":\"#2a3f5f\",\"gridcolor\":\"white\",\"linecolor\":\"white\",\"minorgridcolor\":\"white\",\"startlinecolor\":\"#2a3f5f\"},\"type\":\"carpet\"}],\"table\":[{\"cells\":{\"fill\":{\"color\":\"#EBF0F8\"},\"line\":{\"color\":\"white\"}},\"header\":{\"fill\":{\"color\":\"#C8D4E3\"},\"line\":{\"color\":\"white\"}},\"type\":\"table\"}],\"barpolar\":[{\"marker\":{\"line\":{\"color\":\"#E5ECF6\",\"width\":0.5},\"pattern\":{\"fillmode\":\"overlay\",\"size\":10,\"solidity\":0.2}},\"type\":\"barpolar\"}],\"pie\":[{\"automargin\":true,\"type\":\"pie\"}]},\"layout\":{\"autotypenumbers\":\"strict\",\"colorway\":[\"#636efa\",\"#EF553B\",\"#00cc96\",\"#ab63fa\",\"#FFA15A\",\"#19d3f3\",\"#FF6692\",\"#B6E880\",\"#FF97FF\",\"#FECB52\"],\"font\":{\"color\":\"#2a3f5f\"},\"hovermode\":\"closest\",\"hoverlabel\":{\"align\":\"left\"},\"paper_bgcolor\":\"white\",\"plot_bgcolor\":\"#E5ECF6\",\"polar\":{\"bgcolor\":\"#E5ECF6\",\"angularaxis\":{\"gridcolor\":\"white\",\"linecolor\":\"white\",\"ticks\":\"\"},\"radialaxis\":{\"gridcolor\":\"white\",\"linecolor\":\"white\",\"ticks\":\"\"}},\"ternary\":{\"bgcolor\":\"#E5ECF6\",\"aaxis\":{\"gridcolor\":\"white\",\"linecolor\":\"white\",\"ticks\":\"\"},\"baxis\":{\"gridcolor\":\"white\",\"linecolor\":\"white\",\"ticks\":\"\"},\"caxis\":{\"gridcolor\":\"white\",\"linecolor\":\"white\",\"ticks\":\"\"}},\"coloraxis\":{\"colorbar\":{\"outlinewidth\":0,\"ticks\":\"\"}},\"colorscale\":{\"sequential\":[[0.0,\"#0d0887\"],[0.1111111111111111,\"#46039f\"],[0.2222222222222222,\"#7201a8\"],[0.3333333333333333,\"#9c179e\"],[0.4444444444444444,\"#bd3786\"],[0.5555555555555556,\"#d8576b\"],[0.6666666666666666,\"#ed7953\"],[0.7777777777777778,\"#fb9f3a\"],[0.8888888888888888,\"#fdca26\"],[1.0,\"#f0f921\"]],\"sequentialminus\":[[0.0,\"#0d0887\"],[0.1111111111111111,\"#46039f\"],[0.2222222222222222,\"#7201a8\"],[0.3333333333333333,\"#9c179e\"],[0.4444444444444444,\"#bd3786\"],[0.5555555555555556,\"#d8576b\"],[0.6666666666666666,\"#ed7953\"],[0.7777777777777778,\"#fb9f3a\"],[0.8888888888888888,\"#fdca26\"],[1.0,\"#f0f921\"]],\"diverging\":[[0,\"#8e0152\"],[0.1,\"#c51b7d\"],[0.2,\"#de77ae\"],[0.3,\"#f1b6da\"],[0.4,\"#fde0ef\"],[0.5,\"#f7f7f7\"],[0.6,\"#e6f5d0\"],[0.7,\"#b8e186\"],[0.8,\"#7fbc41\"],[0.9,\"#4d9221\"],[1,\"#276419\"]]},\"xaxis\":{\"gridcolor\":\"white\",\"linecolor\":\"white\",\"ticks\":\"\",\"title\":{\"standoff\":15},\"zerolinecolor\":\"white\",\"automargin\":true,\"zerolinewidth\":2},\"yaxis\":{\"gridcolor\":\"white\",\"linecolor\":\"white\",\"ticks\":\"\",\"title\":{\"standoff\":15},\"zerolinecolor\":\"white\",\"automargin\":true,\"zerolinewidth\":2},\"scene\":{\"xaxis\":{\"backgroundcolor\":\"#E5ECF6\",\"gridcolor\":\"white\",\"linecolor\":\"white\",\"showbackground\":true,\"ticks\":\"\",\"zerolinecolor\":\"white\",\"gridwidth\":2},\"yaxis\":{\"backgroundcolor\":\"#E5ECF6\",\"gridcolor\":\"white\",\"linecolor\":\"white\",\"showbackground\":true,\"ticks\":\"\",\"zerolinecolor\":\"white\",\"gridwidth\":2},\"zaxis\":{\"backgroundcolor\":\"#E5ECF6\",\"gridcolor\":\"white\",\"linecolor\":\"white\",\"showbackground\":true,\"ticks\":\"\",\"zerolinecolor\":\"white\",\"gridwidth\":2}},\"shapedefaults\":{\"line\":{\"color\":\"#2a3f5f\"}},\"annotationdefaults\":{\"arrowcolor\":\"#2a3f5f\",\"arrowhead\":0,\"arrowwidth\":1},\"geo\":{\"bgcolor\":\"white\",\"landcolor\":\"#E5ECF6\",\"subunitcolor\":\"white\",\"showland\":true,\"showlakes\":true,\"lakecolor\":\"white\"},\"title\":{\"x\":0.05},\"mapbox\":{\"style\":\"light\"}}},\"xaxis\":{\"anchor\":\"y\",\"domain\":[0.0,1.0],\"title\":{\"text\":\"Number of people in the household\"}},\"yaxis\":{\"anchor\":\"x\",\"domain\":[0.0,1.0],\"title\":{\"text\":\"Weekly Energy Usage (in KWh)\"}},\"legend\":{\"tracegroupgap\":0},\"title\":{\"text\":\"How the Number of People in a Rural Household affects Weekly Energy Usage (in KWh)\"}},                        {\"responsive\": true}                    ).then(function(){\n",
              "                            \n",
              "var gd = document.getElementById('705d5695-acee-4655-b1ee-cd428d36da38');\n",
              "var x = new MutationObserver(function (mutations, observer) {{\n",
              "        var display = window.getComputedStyle(gd).display;\n",
              "        if (!display || display === 'none') {{\n",
              "            console.log([gd, 'removed!']);\n",
              "            Plotly.purge(gd);\n",
              "            observer.disconnect();\n",
              "        }}\n",
              "}});\n",
              "\n",
              "// Listen for the removal of the full notebook cells\n",
              "var notebookContainer = gd.closest('#notebook-container');\n",
              "if (notebookContainer) {{\n",
              "    x.observe(notebookContainer, {childList: true});\n",
              "}}\n",
              "\n",
              "// Listen for the clearing of the current output cell\n",
              "var outputEl = gd.closest('.output');\n",
              "if (outputEl) {{\n",
              "    x.observe(outputEl, {childList: true});\n",
              "}}\n",
              "\n",
              "                        })                };                            </script>        </div>\n",
              "</body>\n",
              "</html>"
            ]
          },
          "metadata": {}
        }
      ]
    },
    {
      "cell_type": "code",
      "execution_count": null,
      "metadata": {
        "deletable": false,
        "editable": false,
        "nbgrader": {
          "cell_type": "code",
          "checksum": "e33360d105050f4ba50b2bd57ca664f2",
          "grade": true,
          "grade_id": "cell-b0e84fa191477534",
          "locked": true,
          "points": 1,
          "schema_version": 3,
          "solution": false,
          "task": false
        },
        "id": "8TcL0HkSV26N"
      },
      "outputs": [],
      "source": [
        "#DO NOT MODIFY - HIDDEN TESTS HERE"
      ]
    },
    {
      "cell_type": "markdown",
      "metadata": {
        "id": "ad-SYirNMWMt"
      },
      "source": [
        "2. Obtain the parameter estimate $\\hat{\\beta}$. (Hint: use `numpy.linalg.inv`)"
      ]
    },
    {
      "cell_type": "code",
      "execution_count": 108,
      "metadata": {
        "deletable": false,
        "id": "SDlulJXmMeOX",
        "nbgrader": {
          "cell_type": "code",
          "checksum": "7384abe453d1a99d288b167a12ad0b16",
          "grade": false,
          "grade_id": "cell-3ee795448289d25c",
          "locked": false,
          "schema_version": 3,
          "solution": true,
          "task": false
        }
      },
      "outputs": [],
      "source": [
        "Xt = X.T\n",
        "Xt_y = np.dot(Xt, y)\n",
        "Xt_X = np.dot(Xt, X)\n",
        "Xt_X_inv = np.linalg.inv(Xt_X)\n",
        "beta = np.dot(Xt_X_inv, Xt_y)\n",
        "# YOUR CODE HERE\n",
        "# raise NotImplementedError()"
      ]
    },
    {
      "cell_type": "code",
      "source": [
        "beta"
      ],
      "metadata": {
        "id": "lrkJnECQ6yj3",
        "outputId": "3516371e-180c-4b98-a5e0-f9ab0b2fc1ac",
        "colab": {
          "base_uri": "https://localhost:8080/"
        }
      },
      "execution_count": 109,
      "outputs": [
        {
          "output_type": "execute_result",
          "data": {
            "text/plain": [
              "matrix([[-3.89578088],\n",
              "        [ 1.19303364]])"
            ]
          },
          "metadata": {},
          "execution_count": 109
        }
      ]
    },
    {
      "cell_type": "code",
      "execution_count": null,
      "metadata": {
        "deletable": false,
        "editable": false,
        "nbgrader": {
          "cell_type": "code",
          "checksum": "780039945391ecab7996e168b9fd9e46",
          "grade": true,
          "grade_id": "cell-b2efb8f76e68a1be",
          "locked": true,
          "points": 1,
          "schema_version": 3,
          "solution": false,
          "task": false
        },
        "id": "hK-ygtclV26N"
      },
      "outputs": [],
      "source": [
        "# DO NOT MODIFY - HIDDEN TESTS HERE"
      ]
    },
    {
      "cell_type": "markdown",
      "metadata": {
        "id": "UCEPDnrMMYmJ"
      },
      "source": [
        "3. Overlay the regression line against the scatterplot in (1)."
      ]
    },
    {
      "cell_type": "code",
      "execution_count": 155,
      "metadata": {
        "deletable": false,
        "id": "ctyLQQsnMbTt",
        "nbgrader": {
          "cell_type": "code",
          "checksum": "af5bcad6bd1a84dfd5fa4019eb7ea0e1",
          "grade": true,
          "grade_id": "cell-e7ff4b7491072dd5",
          "locked": false,
          "points": 1,
          "schema_version": 3,
          "solution": true,
          "task": false
        },
        "colab": {
          "base_uri": "https://localhost:8080/",
          "height": 542
        },
        "outputId": "c9f8cc7c-3454-4743-a40c-7c3c95ff9d64"
      },
      "outputs": [
        {
          "output_type": "display_data",
          "data": {
            "text/html": [
              "<html>\n",
              "<head><meta charset=\"utf-8\" /></head>\n",
              "<body>\n",
              "    <div>            <script src=\"https://cdnjs.cloudflare.com/ajax/libs/mathjax/2.7.5/MathJax.js?config=TeX-AMS-MML_SVG\"></script><script type=\"text/javascript\">if (window.MathJax && window.MathJax.Hub && window.MathJax.Hub.Config) {window.MathJax.Hub.Config({SVG: {font: \"STIX-Web\"}});}</script>                <script type=\"text/javascript\">window.PlotlyConfig = {MathJaxConfig: 'local'};</script>\n",
              "        <script charset=\"utf-8\" src=\"https://cdn.plot.ly/plotly-2.24.1.min.js\"></script>                <div id=\"b2fd5ca6-3032-4f1c-894a-537262401d5d\" class=\"plotly-graph-div\" style=\"height:525px; width:100%;\"></div>            <script type=\"text/javascript\">                                    window.PLOTLYENV=window.PLOTLYENV || {};                                    if (document.getElementById(\"b2fd5ca6-3032-4f1c-894a-537262401d5d\")) {                    Plotly.newPlot(                        \"b2fd5ca6-3032-4f1c-894a-537262401d5d\",                        [{\"hovertemplate\":\"Number of people in the household=%{x}\\u003cbr\\u003eWeekly Energy Usage (in KWh)=%{y}\\u003cextra\\u003e\\u003c\\u002fextra\\u003e\",\"legendgroup\":\"\",\"marker\":{\"color\":\"#636efa\",\"symbol\":\"circle\"},\"mode\":\"markers\",\"name\":\"\",\"orientation\":\"v\",\"showlegend\":false,\"x\":[6.1101,5.5277,8.5186,7.0032,5.8598,8.3829,7.4764,8.5781,6.4862,5.0546,5.7107,14.164,5.734,8.4084,5.6407,5.3794,6.3654,5.1301,6.4296,7.0708,6.1891,20.27,5.4901,6.3261,5.5649,18.945,12.828,10.957,13.176,22.203,5.2524,6.5894,9.2482,5.8918,8.2111,7.9334,8.0959,5.6063,12.836,6.3534,5.4069,6.8825,11.708,5.7737,7.8247,7.0931,5.0702,5.8014,11.7,5.5416,7.5402,5.3077,7.4239,7.6031,6.3328,6.3589,6.2742,5.6397,9.3102,9.4536,8.8254,5.1793,21.279,14.908,18.959,7.2182,8.2951,10.236,5.4994,20.341,10.136,7.3345,6.0062,7.2259,5.0269,6.5479,7.5386,5.0365,10.274,5.1077,5.7292,5.1884,6.3557,9.7687,6.5159,8.5172,9.1802,6.002,5.5204,5.0594,5.7077,7.6366,5.8707,5.3054,8.2934,13.394,5.4369],\"xaxis\":\"x\",\"y\":[17.592,9.1302,13.662,11.854,6.8233,11.886,4.3483,12.0,6.5987,3.8166,3.2522,15.505,3.1551,7.2258,0.71618,3.5129,5.3048,0.56077,3.6518,5.3893,3.1386,21.767,4.263,5.1875,3.0825,22.638,13.501,7.0467,14.692,24.147,-1.22,5.9966,12.134,1.8495,6.5426,4.5623,4.1164,3.3928,10.117,5.4974,0.55657,3.9115,5.3854,2.4406,6.7318,1.0463,5.1337,1.844,8.0043,1.0179,6.7504,1.8396,4.2885,4.9981,1.4233,-1.4211,2.4756,4.6042,3.9624,5.4141,5.1694,-0.74279,17.929,12.054,17.054,4.8852,5.7442,7.7754,1.0173,20.992,6.6799,4.0259,1.2784,3.3411,-2.6807,0.29678,3.8845,5.7014,6.7526,2.0576,0.47953,0.20421,0.67861,7.5435,5.3436,4.2415,6.7981,0.92695,0.152,2.8214,1.8451,4.2959,7.2029,1.9869,0.14454,9.0551,0.61705],\"yaxis\":\"y\",\"type\":\"scatter\"},{\"mode\":\"lines\",\"name\":\"Regression Line\",\"x\":[6.1101,5.5277,8.5186,7.0032,5.8598,8.3829,7.4764,8.5781,6.4862,5.0546,5.7107,14.164,5.734,8.4084,5.6407,5.3794,6.3654,5.1301,6.4296,7.0708,6.1891,20.27,5.4901,6.3261,5.5649,18.945,12.828,10.957,13.176,22.203,5.2524,6.5894,9.2482,5.8918,8.2111,7.9334,8.0959,5.6063,12.836,6.3534,5.4069,6.8825,11.708,5.7737,7.8247,7.0931,5.0702,5.8014,11.7,5.5416,7.5402,5.3077,7.4239,7.6031,6.3328,6.3589,6.2742,5.6397,9.3102,9.4536,8.8254,5.1793,21.279,14.908,18.959,7.2182,8.2951,10.236,5.4994,20.341,10.136,7.3345,6.0062,7.2259,5.0269,6.5479,7.5386,5.0365,10.274,5.1077,5.7292,5.1884,6.3557,9.7687,6.5159,8.5172,9.1802,6.002,5.5204,5.0594,5.7077,7.6366,5.8707,5.3054,8.2934,13.394,5.4369],\"y\":[3.393773991050964,2.6989511966749418,6.267195523081613,4.459272338676694,3.0951576699103076,6.105300857565084,5.023815859107213,6.338181024910893,3.842473944630673,2.1345269796088417,2.9172763535616384,13.002347657989576,2.945074037471256,6.13572321549192,2.8337639984683665,2.5220243072416246,3.698355480412569,2.224601019745157,3.774948240369541,4.539921413023912,3.4880236489419425,20.28701108941127,2.6540931316534127,3.651469258195918,2.7433320482387944,18.70624151086005,11.40845470935227,9.176288761073533,11.823630417530252,22.593145123629764,2.3705090344295443,3.9655950167110396,7.137632869882346,3.133334746524375,5.900337677493312,5.56903223450186,5.762900201682669,2.792723641108244,11.417998978505787,3.6840390766822932,2.554832732456838,4.315273177823011,10.072257027859921,2.9924374731455825,5.43934947737845,4.56652606328934,2.1531383044581998,3.025484505089635,10.062712758706402,2.715534364329177,5.099931405606508,2.43648379495323,4.961181592787259,5.174973221826036,3.659462583611987,3.6906007617253365,3.589550812062478,2.832570964824177,7.2116009558220995,7.382681980398887,6.633218245118982,2.2832982750392845,21.490782036398574,13.889964689266636,18.722943981878704,4.715774572177459,6.0005525036052365,8.31611150361283,2.6651883445443754,20.37171647814873,8.19680813919387,4.85452438499671,3.2698177954196646,4.724960931237719,2.101479947664791,3.9160841204771706,5.098022551775806,2.1129330706490106,8.361446782092035,2.19787706611531,2.939347475979145,2.2941548812014108,3.686783054063929,7.758606881683031,3.8779070438631034,6.265525275979748,7.05650658207745,3.2648070541140686,2.690242051072358,2.1402535411009525,2.913697252629069,5.214939848906386,3.1081617366319745,2.433739817571593,5.998524346410115,12.083711751963584,2.5906237417825255],\"type\":\"scatter\"}],                        {\"template\":{\"data\":{\"histogram2dcontour\":[{\"type\":\"histogram2dcontour\",\"colorbar\":{\"outlinewidth\":0,\"ticks\":\"\"},\"colorscale\":[[0.0,\"#0d0887\"],[0.1111111111111111,\"#46039f\"],[0.2222222222222222,\"#7201a8\"],[0.3333333333333333,\"#9c179e\"],[0.4444444444444444,\"#bd3786\"],[0.5555555555555556,\"#d8576b\"],[0.6666666666666666,\"#ed7953\"],[0.7777777777777778,\"#fb9f3a\"],[0.8888888888888888,\"#fdca26\"],[1.0,\"#f0f921\"]]}],\"choropleth\":[{\"type\":\"choropleth\",\"colorbar\":{\"outlinewidth\":0,\"ticks\":\"\"}}],\"histogram2d\":[{\"type\":\"histogram2d\",\"colorbar\":{\"outlinewidth\":0,\"ticks\":\"\"},\"colorscale\":[[0.0,\"#0d0887\"],[0.1111111111111111,\"#46039f\"],[0.2222222222222222,\"#7201a8\"],[0.3333333333333333,\"#9c179e\"],[0.4444444444444444,\"#bd3786\"],[0.5555555555555556,\"#d8576b\"],[0.6666666666666666,\"#ed7953\"],[0.7777777777777778,\"#fb9f3a\"],[0.8888888888888888,\"#fdca26\"],[1.0,\"#f0f921\"]]}],\"heatmap\":[{\"type\":\"heatmap\",\"colorbar\":{\"outlinewidth\":0,\"ticks\":\"\"},\"colorscale\":[[0.0,\"#0d0887\"],[0.1111111111111111,\"#46039f\"],[0.2222222222222222,\"#7201a8\"],[0.3333333333333333,\"#9c179e\"],[0.4444444444444444,\"#bd3786\"],[0.5555555555555556,\"#d8576b\"],[0.6666666666666666,\"#ed7953\"],[0.7777777777777778,\"#fb9f3a\"],[0.8888888888888888,\"#fdca26\"],[1.0,\"#f0f921\"]]}],\"heatmapgl\":[{\"type\":\"heatmapgl\",\"colorbar\":{\"outlinewidth\":0,\"ticks\":\"\"},\"colorscale\":[[0.0,\"#0d0887\"],[0.1111111111111111,\"#46039f\"],[0.2222222222222222,\"#7201a8\"],[0.3333333333333333,\"#9c179e\"],[0.4444444444444444,\"#bd3786\"],[0.5555555555555556,\"#d8576b\"],[0.6666666666666666,\"#ed7953\"],[0.7777777777777778,\"#fb9f3a\"],[0.8888888888888888,\"#fdca26\"],[1.0,\"#f0f921\"]]}],\"contourcarpet\":[{\"type\":\"contourcarpet\",\"colorbar\":{\"outlinewidth\":0,\"ticks\":\"\"}}],\"contour\":[{\"type\":\"contour\",\"colorbar\":{\"outlinewidth\":0,\"ticks\":\"\"},\"colorscale\":[[0.0,\"#0d0887\"],[0.1111111111111111,\"#46039f\"],[0.2222222222222222,\"#7201a8\"],[0.3333333333333333,\"#9c179e\"],[0.4444444444444444,\"#bd3786\"],[0.5555555555555556,\"#d8576b\"],[0.6666666666666666,\"#ed7953\"],[0.7777777777777778,\"#fb9f3a\"],[0.8888888888888888,\"#fdca26\"],[1.0,\"#f0f921\"]]}],\"surface\":[{\"type\":\"surface\",\"colorbar\":{\"outlinewidth\":0,\"ticks\":\"\"},\"colorscale\":[[0.0,\"#0d0887\"],[0.1111111111111111,\"#46039f\"],[0.2222222222222222,\"#7201a8\"],[0.3333333333333333,\"#9c179e\"],[0.4444444444444444,\"#bd3786\"],[0.5555555555555556,\"#d8576b\"],[0.6666666666666666,\"#ed7953\"],[0.7777777777777778,\"#fb9f3a\"],[0.8888888888888888,\"#fdca26\"],[1.0,\"#f0f921\"]]}],\"mesh3d\":[{\"type\":\"mesh3d\",\"colorbar\":{\"outlinewidth\":0,\"ticks\":\"\"}}],\"scatter\":[{\"fillpattern\":{\"fillmode\":\"overlay\",\"size\":10,\"solidity\":0.2},\"type\":\"scatter\"}],\"parcoords\":[{\"type\":\"parcoords\",\"line\":{\"colorbar\":{\"outlinewidth\":0,\"ticks\":\"\"}}}],\"scatterpolargl\":[{\"type\":\"scatterpolargl\",\"marker\":{\"colorbar\":{\"outlinewidth\":0,\"ticks\":\"\"}}}],\"bar\":[{\"error_x\":{\"color\":\"#2a3f5f\"},\"error_y\":{\"color\":\"#2a3f5f\"},\"marker\":{\"line\":{\"color\":\"#E5ECF6\",\"width\":0.5},\"pattern\":{\"fillmode\":\"overlay\",\"size\":10,\"solidity\":0.2}},\"type\":\"bar\"}],\"scattergeo\":[{\"type\":\"scattergeo\",\"marker\":{\"colorbar\":{\"outlinewidth\":0,\"ticks\":\"\"}}}],\"scatterpolar\":[{\"type\":\"scatterpolar\",\"marker\":{\"colorbar\":{\"outlinewidth\":0,\"ticks\":\"\"}}}],\"histogram\":[{\"marker\":{\"pattern\":{\"fillmode\":\"overlay\",\"size\":10,\"solidity\":0.2}},\"type\":\"histogram\"}],\"scattergl\":[{\"type\":\"scattergl\",\"marker\":{\"colorbar\":{\"outlinewidth\":0,\"ticks\":\"\"}}}],\"scatter3d\":[{\"type\":\"scatter3d\",\"line\":{\"colorbar\":{\"outlinewidth\":0,\"ticks\":\"\"}},\"marker\":{\"colorbar\":{\"outlinewidth\":0,\"ticks\":\"\"}}}],\"scattermapbox\":[{\"type\":\"scattermapbox\",\"marker\":{\"colorbar\":{\"outlinewidth\":0,\"ticks\":\"\"}}}],\"scatterternary\":[{\"type\":\"scatterternary\",\"marker\":{\"colorbar\":{\"outlinewidth\":0,\"ticks\":\"\"}}}],\"scattercarpet\":[{\"type\":\"scattercarpet\",\"marker\":{\"colorbar\":{\"outlinewidth\":0,\"ticks\":\"\"}}}],\"carpet\":[{\"aaxis\":{\"endlinecolor\":\"#2a3f5f\",\"gridcolor\":\"white\",\"linecolor\":\"white\",\"minorgridcolor\":\"white\",\"startlinecolor\":\"#2a3f5f\"},\"baxis\":{\"endlinecolor\":\"#2a3f5f\",\"gridcolor\":\"white\",\"linecolor\":\"white\",\"minorgridcolor\":\"white\",\"startlinecolor\":\"#2a3f5f\"},\"type\":\"carpet\"}],\"table\":[{\"cells\":{\"fill\":{\"color\":\"#EBF0F8\"},\"line\":{\"color\":\"white\"}},\"header\":{\"fill\":{\"color\":\"#C8D4E3\"},\"line\":{\"color\":\"white\"}},\"type\":\"table\"}],\"barpolar\":[{\"marker\":{\"line\":{\"color\":\"#E5ECF6\",\"width\":0.5},\"pattern\":{\"fillmode\":\"overlay\",\"size\":10,\"solidity\":0.2}},\"type\":\"barpolar\"}],\"pie\":[{\"automargin\":true,\"type\":\"pie\"}]},\"layout\":{\"autotypenumbers\":\"strict\",\"colorway\":[\"#636efa\",\"#EF553B\",\"#00cc96\",\"#ab63fa\",\"#FFA15A\",\"#19d3f3\",\"#FF6692\",\"#B6E880\",\"#FF97FF\",\"#FECB52\"],\"font\":{\"color\":\"#2a3f5f\"},\"hovermode\":\"closest\",\"hoverlabel\":{\"align\":\"left\"},\"paper_bgcolor\":\"white\",\"plot_bgcolor\":\"#E5ECF6\",\"polar\":{\"bgcolor\":\"#E5ECF6\",\"angularaxis\":{\"gridcolor\":\"white\",\"linecolor\":\"white\",\"ticks\":\"\"},\"radialaxis\":{\"gridcolor\":\"white\",\"linecolor\":\"white\",\"ticks\":\"\"}},\"ternary\":{\"bgcolor\":\"#E5ECF6\",\"aaxis\":{\"gridcolor\":\"white\",\"linecolor\":\"white\",\"ticks\":\"\"},\"baxis\":{\"gridcolor\":\"white\",\"linecolor\":\"white\",\"ticks\":\"\"},\"caxis\":{\"gridcolor\":\"white\",\"linecolor\":\"white\",\"ticks\":\"\"}},\"coloraxis\":{\"colorbar\":{\"outlinewidth\":0,\"ticks\":\"\"}},\"colorscale\":{\"sequential\":[[0.0,\"#0d0887\"],[0.1111111111111111,\"#46039f\"],[0.2222222222222222,\"#7201a8\"],[0.3333333333333333,\"#9c179e\"],[0.4444444444444444,\"#bd3786\"],[0.5555555555555556,\"#d8576b\"],[0.6666666666666666,\"#ed7953\"],[0.7777777777777778,\"#fb9f3a\"],[0.8888888888888888,\"#fdca26\"],[1.0,\"#f0f921\"]],\"sequentialminus\":[[0.0,\"#0d0887\"],[0.1111111111111111,\"#46039f\"],[0.2222222222222222,\"#7201a8\"],[0.3333333333333333,\"#9c179e\"],[0.4444444444444444,\"#bd3786\"],[0.5555555555555556,\"#d8576b\"],[0.6666666666666666,\"#ed7953\"],[0.7777777777777778,\"#fb9f3a\"],[0.8888888888888888,\"#fdca26\"],[1.0,\"#f0f921\"]],\"diverging\":[[0,\"#8e0152\"],[0.1,\"#c51b7d\"],[0.2,\"#de77ae\"],[0.3,\"#f1b6da\"],[0.4,\"#fde0ef\"],[0.5,\"#f7f7f7\"],[0.6,\"#e6f5d0\"],[0.7,\"#b8e186\"],[0.8,\"#7fbc41\"],[0.9,\"#4d9221\"],[1,\"#276419\"]]},\"xaxis\":{\"gridcolor\":\"white\",\"linecolor\":\"white\",\"ticks\":\"\",\"title\":{\"standoff\":15},\"zerolinecolor\":\"white\",\"automargin\":true,\"zerolinewidth\":2},\"yaxis\":{\"gridcolor\":\"white\",\"linecolor\":\"white\",\"ticks\":\"\",\"title\":{\"standoff\":15},\"zerolinecolor\":\"white\",\"automargin\":true,\"zerolinewidth\":2},\"scene\":{\"xaxis\":{\"backgroundcolor\":\"#E5ECF6\",\"gridcolor\":\"white\",\"linecolor\":\"white\",\"showbackground\":true,\"ticks\":\"\",\"zerolinecolor\":\"white\",\"gridwidth\":2},\"yaxis\":{\"backgroundcolor\":\"#E5ECF6\",\"gridcolor\":\"white\",\"linecolor\":\"white\",\"showbackground\":true,\"ticks\":\"\",\"zerolinecolor\":\"white\",\"gridwidth\":2},\"zaxis\":{\"backgroundcolor\":\"#E5ECF6\",\"gridcolor\":\"white\",\"linecolor\":\"white\",\"showbackground\":true,\"ticks\":\"\",\"zerolinecolor\":\"white\",\"gridwidth\":2}},\"shapedefaults\":{\"line\":{\"color\":\"#2a3f5f\"}},\"annotationdefaults\":{\"arrowcolor\":\"#2a3f5f\",\"arrowhead\":0,\"arrowwidth\":1},\"geo\":{\"bgcolor\":\"white\",\"landcolor\":\"#E5ECF6\",\"subunitcolor\":\"white\",\"showland\":true,\"showlakes\":true,\"lakecolor\":\"white\"},\"title\":{\"x\":0.05},\"mapbox\":{\"style\":\"light\"}}},\"xaxis\":{\"anchor\":\"y\",\"domain\":[0.0,1.0],\"title\":{\"text\":\"Number of people in the household\"}},\"yaxis\":{\"anchor\":\"x\",\"domain\":[0.0,1.0],\"title\":{\"text\":\"Weekly Energy Usage (in KWh)\"}},\"legend\":{\"tracegroupgap\":0},\"title\":{\"text\":\"How the Number of People in a Rural Household affects Weekly Energy Usage (in KWh)\"}},                        {\"responsive\": true}                    ).then(function(){\n",
              "                            \n",
              "var gd = document.getElementById('b2fd5ca6-3032-4f1c-894a-537262401d5d');\n",
              "var x = new MutationObserver(function (mutations, observer) {{\n",
              "        var display = window.getComputedStyle(gd).display;\n",
              "        if (!display || display === 'none') {{\n",
              "            console.log([gd, 'removed!']);\n",
              "            Plotly.purge(gd);\n",
              "            observer.disconnect();\n",
              "        }}\n",
              "}});\n",
              "\n",
              "// Listen for the removal of the full notebook cells\n",
              "var notebookContainer = gd.closest('#notebook-container');\n",
              "if (notebookContainer) {{\n",
              "    x.observe(notebookContainer, {childList: true});\n",
              "}}\n",
              "\n",
              "// Listen for the clearing of the current output cell\n",
              "var outputEl = gd.closest('.output');\n",
              "if (outputEl) {{\n",
              "    x.observe(outputEl, {childList: true});\n",
              "}}\n",
              "\n",
              "                        })                };                            </script>        </div>\n",
              "</body>\n",
              "</html>"
            ]
          },
          "metadata": {}
        }
      ],
      "source": [
        "# YOUR CODE HERE\n",
        "beta = np.array(beta)\n",
        "fig.add_scatter(x=df['num_people'], y=beta[0]+beta[1]*df['num_people'],\n",
        "                mode='lines', name='Regression Line')\n",
        "fig.show()\n",
        "# raise NotImplementedError()"
      ]
    },
    {
      "cell_type": "markdown",
      "metadata": {
        "id": "Sz_zxPScMccX"
      },
      "source": [
        "4. Write a function `cost_linear` that takes in $\\hat{\\beta}$, $\\mathbf{X}$, and $\\vec{y}$ (in that order), and outputs the residual square sum loss associated with the regression you just performed."
      ]
    },
    {
      "cell_type": "code",
      "execution_count": null,
      "metadata": {
        "deletable": false,
        "id": "uilMnuIKMgAm",
        "nbgrader": {
          "cell_type": "code",
          "checksum": "34377f41cbaea585a87673b3330f000c",
          "grade": false,
          "grade_id": "cell-1f917936172a92fa",
          "locked": false,
          "schema_version": 3,
          "solution": true,
          "task": false
        }
      },
      "outputs": [],
      "source": [
        "def cost_linear(beta, X, y):\n",
        "  # YOUR CODE HERE\n",
        "  raise NotImplementedError()"
      ]
    },
    {
      "cell_type": "code",
      "execution_count": null,
      "metadata": {
        "deletable": false,
        "editable": false,
        "nbgrader": {
          "cell_type": "code",
          "checksum": "925c410c1a379c5361a1b1aa2cf2912f",
          "grade": true,
          "grade_id": "cell-2d694a60138788e0",
          "locked": true,
          "points": 1,
          "schema_version": 3,
          "solution": false,
          "task": false
        },
        "id": "KA8Kn1ssV26N"
      },
      "outputs": [],
      "source": [
        "# DO NOT MODIFY - HIDDEN TESTS HERE"
      ]
    },
    {
      "cell_type": "markdown",
      "metadata": {
        "id": "sm7Jd4ekKBcw"
      },
      "source": [
        "### Problem 3\n",
        "\n",
        "In this exercise, you will need the data contained in `data/log.txt` (taken from Andrew Ng's _Machine Learning Specialization_ course).\n",
        "\n",
        "You are given a dataset containing two exam results for each student and whether or not they were admitted to a particular prestigious university, with $1$ representing admission and $0$ otherwise. Your task is to predict whether or not a student will be admitted based on their exams.\n",
        "\n",
        "To do this, we are going to use the **gradient operator** to iterate towards a solution $\\hat{\\beta}$."
      ]
    },
    {
      "cell_type": "markdown",
      "metadata": {
        "id": "_ylbOIwtMpFD"
      },
      "source": [
        "#### Prereq: Load the dataset"
      ]
    },
    {
      "cell_type": "code",
      "execution_count": null,
      "metadata": {
        "id": "dnS26cUyMrDd"
      },
      "outputs": [],
      "source": [
        "matrix = np.matrix([tuple(map(float, x.strip().split(','))) for x in open(\"data/log.txt\", 'r').readlines()])\n",
        "matrix"
      ]
    },
    {
      "cell_type": "markdown",
      "metadata": {
        "id": "ezcFJW8gMr4z"
      },
      "source": [
        "#### Questions"
      ]
    },
    {
      "cell_type": "markdown",
      "metadata": {
        "id": "4LzBv4zhMt8I"
      },
      "source": [
        "1. Construct the design matrix $\\mathbf{X}$ and the vector of admisions $\\vec{y}$. Make a scatterplot of (Exam 2) vs (Exam 1) and show the difference in admission by the use of different markers for each point."
      ]
    },
    {
      "cell_type": "code",
      "execution_count": null,
      "metadata": {
        "deletable": false,
        "id": "icg-k_R6MtXM",
        "nbgrader": {
          "cell_type": "code",
          "checksum": "e3c0a5f20e355a9cc64e9e042d7fb963",
          "grade": false,
          "grade_id": "cell-ee38fa50a427062a",
          "locked": false,
          "schema_version": 3,
          "solution": true,
          "task": false
        }
      },
      "outputs": [],
      "source": [
        "X = None # column 1\n",
        "y = None # column 2\n",
        "# YOUR CODE HERE\n",
        "raise NotImplementedError()"
      ]
    },
    {
      "cell_type": "code",
      "execution_count": null,
      "metadata": {
        "deletable": false,
        "editable": false,
        "nbgrader": {
          "cell_type": "code",
          "checksum": "d3cbb989e7a3aa6719158a64488ac00e",
          "grade": true,
          "grade_id": "cell-7cf7dbc4ea123057",
          "locked": true,
          "points": 1,
          "schema_version": 3,
          "solution": false,
          "task": false
        },
        "id": "79It6XV4V26O"
      },
      "outputs": [],
      "source": [
        "# DO NOT MODIFY - HIDDEN TESTS HERE"
      ]
    },
    {
      "cell_type": "markdown",
      "metadata": {
        "id": "RKsFqcVcMw6m"
      },
      "source": [
        "2. Implement the `sigmoid` function mentioned in the lesson above."
      ]
    },
    {
      "cell_type": "code",
      "execution_count": null,
      "metadata": {
        "deletable": false,
        "id": "KP8wQLQiI9xH",
        "nbgrader": {
          "cell_type": "code",
          "checksum": "e5a939c1ded68bb7e1eab57381a64746",
          "grade": false,
          "grade_id": "cell-f024af9272b99c0e",
          "locked": false,
          "schema_version": 3,
          "solution": true,
          "task": false
        }
      },
      "outputs": [],
      "source": [
        "def sigmoid(x):\n",
        "  # YOUR CODE HERE\n",
        "  raise NotImplementedError()"
      ]
    },
    {
      "cell_type": "code",
      "execution_count": null,
      "metadata": {
        "deletable": false,
        "editable": false,
        "nbgrader": {
          "cell_type": "code",
          "checksum": "c162048b29fb02b575a5743a6b4a059c",
          "grade": true,
          "grade_id": "cell-125e088a485b542a",
          "locked": true,
          "points": 1,
          "schema_version": 3,
          "solution": false,
          "task": false
        },
        "id": "3h1uDe6cV26O"
      },
      "outputs": [],
      "source": [
        "# DO NOT MODIFY - HIDDEN TESTS HERE"
      ]
    },
    {
      "cell_type": "markdown",
      "metadata": {
        "id": "WGv0cJcLM_1H"
      },
      "source": [
        "3. Write a function `cost_log` that takes in $\\hat{\\theta} \\equiv \\hat{\\beta}^T$, $\\mathbf{X}$, and $\\vec{y}$ (in that order) and  and outputs the log-loss."
      ]
    },
    {
      "cell_type": "code",
      "execution_count": null,
      "metadata": {
        "deletable": false,
        "id": "831BlqfYFpOn",
        "nbgrader": {
          "cell_type": "code",
          "checksum": "7fc7af1b955217db1bb6129346d27f5b",
          "grade": false,
          "grade_id": "cell-79c506471bb12f2f",
          "locked": false,
          "schema_version": 3,
          "solution": true,
          "task": false
        }
      },
      "outputs": [],
      "source": [
        "def cost_log(theta, X, y):\n",
        "  # YOUR CODE HERE\n",
        "  raise NotImplementedError()"
      ]
    },
    {
      "cell_type": "code",
      "execution_count": null,
      "metadata": {
        "deletable": false,
        "editable": false,
        "nbgrader": {
          "cell_type": "code",
          "checksum": "63ccea17d99207aac164a269fed899af",
          "grade": true,
          "grade_id": "cell-450c06db02010756",
          "locked": true,
          "points": 1,
          "schema_version": 3,
          "solution": false,
          "task": false
        },
        "id": "7xbw8J0-V26O"
      },
      "outputs": [],
      "source": [
        "# DO NOT MODIFY - HIDDEN TESTS HERE"
      ]
    },
    {
      "cell_type": "markdown",
      "metadata": {
        "id": "5SQn7RGVNCGc"
      },
      "source": [
        "4. Use the `gradient` function and the succeeding code snippet below to calculate $\\hat{\\beta}$."
      ]
    },
    {
      "cell_type": "markdown",
      "metadata": {
        "id": "iZtl6DH8NLgD"
      },
      "source": [
        "##### `gradient`"
      ]
    },
    {
      "cell_type": "code",
      "execution_count": null,
      "metadata": {
        "id": "oqSA6u_TV26P"
      },
      "outputs": [],
      "source": [
        "# Note: theta = beta.T; theta.shape = (3,)\n",
        "\n",
        "def gradient(theta, X, y):\n",
        "    theta = np.matrix(theta)\n",
        "    X = np.matrix(X)\n",
        "    y = np.matrix(y)\n",
        "\n",
        "    parameters = int(theta.ravel().shape[1])\n",
        "    grad = np.zeros(parameters)\n",
        "\n",
        "    error = sigmoid(X * theta.T) - y\n",
        "\n",
        "    for i in range(parameters):\n",
        "        term = np.multiply(error, X[:,i])\n",
        "        grad[i] = np.sum(term) / len(X)\n",
        "\n",
        "    return grad\n",
        "\n",
        "\n",
        "import scipy.optimize as opt\n",
        "def calculate_beta(theta, X, y, cost=cost_log, grad=gradient):\n",
        "    beta = opt.fmin_tnc(func=cost, x0=theta, fprime=grad, args=(X, y))[0].T\n",
        "\n",
        "    return beta"
      ]
    },
    {
      "cell_type": "code",
      "execution_count": null,
      "metadata": {
        "deletable": false,
        "id": "jOUkX5PYNNhT",
        "nbgrader": {
          "cell_type": "code",
          "checksum": "c62aaf05b28312c0a74fb94f87d0ea46",
          "grade": false,
          "grade_id": "cell-aefd3998558a8ac7",
          "locked": false,
          "schema_version": 3,
          "solution": true,
          "task": false
        }
      },
      "outputs": [],
      "source": [
        "# YOUR CODE HERE\n",
        "raise NotImplementedError()"
      ]
    },
    {
      "cell_type": "code",
      "execution_count": null,
      "metadata": {
        "deletable": false,
        "editable": false,
        "nbgrader": {
          "cell_type": "code",
          "checksum": "22b664188aa6052937e0733f1ba1a06d",
          "grade": true,
          "grade_id": "cell-a5eb8859856eb9a3",
          "locked": true,
          "points": 1,
          "schema_version": 3,
          "solution": false,
          "task": false
        },
        "id": "46SXtJfWV26P"
      },
      "outputs": [],
      "source": [
        "# DO NOT MODIFY - HIDDEN TESTS HERE"
      ]
    },
    {
      "cell_type": "code",
      "execution_count": null,
      "metadata": {
        "id": "thvEyBkCAF2L"
      },
      "outputs": [],
      "source": [
        "beta"
      ]
    },
    {
      "cell_type": "markdown",
      "metadata": {
        "id": "hG_zyFNXNEdd"
      },
      "source": [
        "5. Use the `predict` function below on the exam results in $\\mathbf{X}$ to calculate the _accuracy_ of the regression, defined as the number of correct admissions it makes compared to $\\vec{y}$."
      ]
    },
    {
      "cell_type": "markdown",
      "metadata": {
        "id": "z8Vsqr9gNXSi"
      },
      "source": [
        "##### `predict`"
      ]
    },
    {
      "cell_type": "code",
      "execution_count": null,
      "metadata": {
        "id": "jHbYlq2CNZU1"
      },
      "outputs": [],
      "source": [
        "def predict(theta, X):\n",
        "    probability = sigmoid(X * theta.T)\n",
        "    return [1 if x >= 0.5 else 0 for x in probability]"
      ]
    },
    {
      "cell_type": "code",
      "execution_count": null,
      "metadata": {
        "deletable": false,
        "id": "rQaJvJyfNb4j",
        "nbgrader": {
          "cell_type": "code",
          "checksum": "fc1d10b47b655f815cb245d1f5782f87",
          "grade": true,
          "grade_id": "cell-f45e4b5f79efb689",
          "locked": false,
          "points": 1,
          "schema_version": 3,
          "solution": true,
          "task": false
        }
      },
      "outputs": [],
      "source": [
        "accuracy = None\n",
        "# YOUR CODE HERE\n",
        "raise NotImplementedError()"
      ]
    }
  ],
  "metadata": {
    "colab": {
      "provenance": []
    },
    "kernelspec": {
      "display_name": "Python 3 (ipykernel)",
      "language": "python",
      "name": "python3"
    },
    "language_info": {
      "codemirror_mode": {
        "name": "ipython",
        "version": 3
      },
      "file_extension": ".py",
      "mimetype": "text/x-python",
      "name": "python",
      "nbconvert_exporter": "python",
      "pygments_lexer": "ipython3",
      "version": "3.10.13"
    }
  },
  "nbformat": 4,
  "nbformat_minor": 0
}